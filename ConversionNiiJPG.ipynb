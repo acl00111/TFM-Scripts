{
  "nbformat": 4,
  "nbformat_minor": 0,
  "metadata": {
    "colab": {
      "provenance": []
    },
    "kernelspec": {
      "name": "python3",
      "display_name": "Python 3"
    },
    "language_info": {
      "name": "python"
    }
  },
  "cells": [
    {
      "cell_type": "code",
      "execution_count": null,
      "metadata": {
        "id": "tsglJqfG2lMA",
        "colab": {
          "base_uri": "https://localhost:8080/"
        },
        "outputId": "4c87d431-7b77-4aad-fc8c-4bc38fd1c47d"
      },
      "outputs": [
        {
          "output_type": "stream",
          "name": "stdout",
          "text": [
            "Requirement already satisfied: nibabel in /usr/local/lib/python3.11/dist-packages (5.3.2)\n",
            "Requirement already satisfied: scikit-image in /usr/local/lib/python3.11/dist-packages (0.25.2)\n",
            "Requirement already satisfied: importlib-resources>=5.12 in /usr/local/lib/python3.11/dist-packages (from nibabel) (6.5.2)\n",
            "Requirement already satisfied: numpy>=1.22 in /usr/local/lib/python3.11/dist-packages (from nibabel) (2.0.2)\n",
            "Requirement already satisfied: packaging>=20 in /usr/local/lib/python3.11/dist-packages (from nibabel) (24.2)\n",
            "Requirement already satisfied: typing-extensions>=4.6 in /usr/local/lib/python3.11/dist-packages (from nibabel) (4.13.2)\n",
            "Requirement already satisfied: scipy>=1.11.4 in /usr/local/lib/python3.11/dist-packages (from scikit-image) (1.15.2)\n",
            "Requirement already satisfied: networkx>=3.0 in /usr/local/lib/python3.11/dist-packages (from scikit-image) (3.4.2)\n",
            "Requirement already satisfied: pillow>=10.1 in /usr/local/lib/python3.11/dist-packages (from scikit-image) (11.2.1)\n",
            "Requirement already satisfied: imageio!=2.35.0,>=2.33 in /usr/local/lib/python3.11/dist-packages (from scikit-image) (2.37.0)\n",
            "Requirement already satisfied: tifffile>=2022.8.12 in /usr/local/lib/python3.11/dist-packages (from scikit-image) (2025.3.30)\n",
            "Requirement already satisfied: lazy-loader>=0.4 in /usr/local/lib/python3.11/dist-packages (from scikit-image) (0.4)\n"
          ]
        }
      ],
      "source": [
        "!pip install nibabel scikit-image"
      ]
    },
    {
      "cell_type": "code",
      "source": [
        "import torch\n",
        "from torch.utils.data import Subset\n",
        "import numpy as np\n",
        "import os\n",
        "from zipfile import ZipFile\n",
        "from PIL import Image\n",
        "import warnings\n",
        "warnings.filterwarnings(\"ignore\", category=UserWarning)"
      ],
      "metadata": {
        "id": "AtEU5lhp9c0t"
      },
      "execution_count": null,
      "outputs": []
    },
    {
      "cell_type": "code",
      "source": [
        "from google.colab import drive\n",
        "drive.mount('/content/drive')"
      ],
      "metadata": {
        "id": "xtwqmgA_bl5o",
        "colab": {
          "base_uri": "https://localhost:8080/"
        },
        "outputId": "de4907ab-97d5-436b-900d-1f782ee2fcd5"
      },
      "execution_count": null,
      "outputs": [
        {
          "output_type": "stream",
          "name": "stdout",
          "text": [
            "Mounted at /content/drive\n"
          ]
        }
      ]
    },
    {
      "cell_type": "code",
      "source": [
        "from zipfile import ZipFile\n",
        "\n",
        "# Ruta al archivo zip en Drive\n",
        "zip_path = '/content/drive/My Drive/TFM/MSLesSeg-Dataset.zip'\n",
        "\n",
        "# Ruta donde quieres extraerlo\n",
        "extract_path = '/content/drive/My Drive/TFM/MSLesSeg-Dataset/'\n",
        "\n",
        "# Extraer\n",
        "with ZipFile(zip_path, 'r') as zip_ref:\n",
        "    zip_ref.extractall(extract_path)\n"
      ],
      "metadata": {
        "id": "trWWbJ9k-EBt",
        "colab": {
          "base_uri": "https://localhost:8080/",
          "height": 235
        },
        "outputId": "72dfb9f1-a551-4c14-e1d8-dbfbfe0c6d95"
      },
      "execution_count": null,
      "outputs": [
        {
          "output_type": "error",
          "ename": "KeyboardInterrupt",
          "evalue": "",
          "traceback": [
            "\u001b[0;31m---------------------------------------------------------------------------\u001b[0m",
            "\u001b[0;31mKeyboardInterrupt\u001b[0m                         Traceback (most recent call last)",
            "\u001b[0;32m<ipython-input-4-59d4f0c1243f>\u001b[0m in \u001b[0;36m<cell line: 0>\u001b[0;34m()\u001b[0m\n\u001b[1;32m      9\u001b[0m \u001b[0;31m# Extraer\u001b[0m\u001b[0;34m\u001b[0m\u001b[0;34m\u001b[0m\u001b[0m\n\u001b[1;32m     10\u001b[0m \u001b[0;32mwith\u001b[0m \u001b[0mZipFile\u001b[0m\u001b[0;34m(\u001b[0m\u001b[0mzip_path\u001b[0m\u001b[0;34m,\u001b[0m \u001b[0;34m'r'\u001b[0m\u001b[0;34m)\u001b[0m \u001b[0;32mas\u001b[0m \u001b[0mzip_ref\u001b[0m\u001b[0;34m:\u001b[0m\u001b[0;34m\u001b[0m\u001b[0;34m\u001b[0m\u001b[0m\n\u001b[0;32m---> 11\u001b[0;31m     \u001b[0mzip_ref\u001b[0m\u001b[0;34m.\u001b[0m\u001b[0mextractall\u001b[0m\u001b[0;34m(\u001b[0m\u001b[0mextract_path\u001b[0m\u001b[0;34m)\u001b[0m\u001b[0;34m\u001b[0m\u001b[0;34m\u001b[0m\u001b[0m\n\u001b[0m",
            "\u001b[0;32m/usr/lib/python3.11/zipfile.py\u001b[0m in \u001b[0;36mextractall\u001b[0;34m(self, path, members, pwd)\u001b[0m\n\u001b[1;32m   1700\u001b[0m \u001b[0;34m\u001b[0m\u001b[0m\n\u001b[1;32m   1701\u001b[0m         \u001b[0;32mfor\u001b[0m \u001b[0mzipinfo\u001b[0m \u001b[0;32min\u001b[0m \u001b[0mmembers\u001b[0m\u001b[0;34m:\u001b[0m\u001b[0;34m\u001b[0m\u001b[0;34m\u001b[0m\u001b[0m\n\u001b[0;32m-> 1702\u001b[0;31m             \u001b[0mself\u001b[0m\u001b[0;34m.\u001b[0m\u001b[0m_extract_member\u001b[0m\u001b[0;34m(\u001b[0m\u001b[0mzipinfo\u001b[0m\u001b[0;34m,\u001b[0m \u001b[0mpath\u001b[0m\u001b[0;34m,\u001b[0m \u001b[0mpwd\u001b[0m\u001b[0;34m)\u001b[0m\u001b[0;34m\u001b[0m\u001b[0;34m\u001b[0m\u001b[0m\n\u001b[0m\u001b[1;32m   1703\u001b[0m \u001b[0;34m\u001b[0m\u001b[0m\n\u001b[1;32m   1704\u001b[0m     \u001b[0;34m@\u001b[0m\u001b[0mclassmethod\u001b[0m\u001b[0;34m\u001b[0m\u001b[0;34m\u001b[0m\u001b[0m\n",
            "\u001b[0;32m/usr/lib/python3.11/zipfile.py\u001b[0m in \u001b[0;36m_extract_member\u001b[0;34m(self, member, targetpath, pwd)\u001b[0m\n\u001b[1;32m   1746\u001b[0m         \u001b[0mupperdirs\u001b[0m \u001b[0;34m=\u001b[0m \u001b[0mos\u001b[0m\u001b[0;34m.\u001b[0m\u001b[0mpath\u001b[0m\u001b[0;34m.\u001b[0m\u001b[0mdirname\u001b[0m\u001b[0;34m(\u001b[0m\u001b[0mtargetpath\u001b[0m\u001b[0;34m)\u001b[0m\u001b[0;34m\u001b[0m\u001b[0;34m\u001b[0m\u001b[0m\n\u001b[1;32m   1747\u001b[0m         \u001b[0;32mif\u001b[0m \u001b[0mupperdirs\u001b[0m \u001b[0;32mand\u001b[0m \u001b[0;32mnot\u001b[0m \u001b[0mos\u001b[0m\u001b[0;34m.\u001b[0m\u001b[0mpath\u001b[0m\u001b[0;34m.\u001b[0m\u001b[0mexists\u001b[0m\u001b[0;34m(\u001b[0m\u001b[0mupperdirs\u001b[0m\u001b[0;34m)\u001b[0m\u001b[0;34m:\u001b[0m\u001b[0;34m\u001b[0m\u001b[0;34m\u001b[0m\u001b[0m\n\u001b[0;32m-> 1748\u001b[0;31m             \u001b[0mos\u001b[0m\u001b[0;34m.\u001b[0m\u001b[0mmakedirs\u001b[0m\u001b[0;34m(\u001b[0m\u001b[0mupperdirs\u001b[0m\u001b[0;34m)\u001b[0m\u001b[0;34m\u001b[0m\u001b[0;34m\u001b[0m\u001b[0m\n\u001b[0m\u001b[1;32m   1749\u001b[0m \u001b[0;34m\u001b[0m\u001b[0m\n\u001b[1;32m   1750\u001b[0m         \u001b[0;32mif\u001b[0m \u001b[0mmember\u001b[0m\u001b[0;34m.\u001b[0m\u001b[0mis_dir\u001b[0m\u001b[0;34m(\u001b[0m\u001b[0;34m)\u001b[0m\u001b[0;34m:\u001b[0m\u001b[0;34m\u001b[0m\u001b[0;34m\u001b[0m\u001b[0m\n",
            "\u001b[0;32m/usr/lib/python3.11/os.py\u001b[0m in \u001b[0;36mmakedirs\u001b[0;34m(name, mode, exist_ok)\u001b[0m\n",
            "\u001b[0;31mKeyboardInterrupt\u001b[0m: "
          ]
        }
      ]
    },
    {
      "source": [
        "import nibabel as nib\n",
        "import numpy as np\n",
        "from pathlib import Path\n",
        "from skimage import io\n",
        "from tqdm import tqdm\n",
        "\n",
        "def to_uint8(data):\n",
        "    data -= data.min()\n",
        "    ptp = np.ptp(data)\n",
        "    if ptp == 0:\n",
        "        return np.zeros(data.shape, dtype=np.uint8)\n",
        "    data /= ptp\n",
        "    data *= 255\n",
        "    return data.astype(np.uint8)\n",
        "\n",
        "def nii_to_jpgs(input_path, output_dir, rgb=False):\n",
        "    output_dir = Path(output_dir)\n",
        "    output_dir.mkdir(parents=True, exist_ok=True)\n",
        "    data = nib.load(input_path).get_fdata()\n",
        "    num_slices, width, height = data.shape\n",
        "    nombre_archivo = input_path.stem\n",
        "    nombre_base = nombre_archivo.replace('_MASK.nii', '')\n",
        "    #print(nombre_base)\n",
        "    for slice in range(num_slices):\n",
        "        slice_data = data[slice, ...]\n",
        "        slice_data = to_uint8(slice_data)\n",
        "        if rgb:\n",
        "            slice_data = np.stack(3 * [slice_data], axis=2)\n",
        "        output_path = output_dir / f'{nombre_base}_slice_{slice}.png'\n",
        "        #print(output_path)\n",
        "        io.imsave(output_path, slice_data)\n",
        "\n",
        "def process_training_set(input_root, output_root, rgb=False):\n",
        "    input_root = Path(input_root)\n",
        "    output_root = Path(output_root)\n",
        "\n",
        "    nii_files = list(input_root.rglob('*MASK.nii.gz'))\n",
        "\n",
        "    print(f\"Se encontraron {len(nii_files)} archivos .nii.gz en {input_root}\")\n",
        "\n",
        "    for nii_file in tqdm(nii_files, desc='Procesando archivos'):\n",
        "        # Ruta relativa desde input_root\n",
        "        relative_path = nii_file.relative_to(input_root)\n",
        "        # Sacar nombre de archivo sin extensión .nii.gz\n",
        "        nii_name = nii_file.stem\n",
        "        # Crear carpeta de salida para este archivo\n",
        "        #output_dir = output_root / relative_path.parent / nii_name\n",
        "        #output_dir.mkdir(parents=True, exist_ok=True)\n",
        "        # Procesar el archivo\n",
        "        nii_to_jpgs(nii_file, output_root, rgb=rgb)\n"
      ],
      "cell_type": "code",
      "metadata": {
        "id": "kjskOcQNANM6"
      },
      "execution_count": null,
      "outputs": []
    },
    {
      "cell_type": "code",
      "source": [
        "input_path_train = '/content/drive/My Drive/TFM/MSLesSeg-Dataset/train'\n",
        "output_dir_train = '/content/drive/My Drive/TFM/MSLesSeg-Dataset/output_trainMasks'\n",
        "input_path_test = '/content/drive/My Drive/TFM/MSLesSeg-Dataset/test'\n",
        "output_dir_test = '/content/drive/My Drive/TFM/MSLesSeg-Dataset/output_test'\n",
        "process_training_set(input_path_train, output_dir_train, rgb=True)\n",
        "#process_training_set(input_path_test, output_dir_test, rgb=True)"
      ],
      "metadata": {
        "id": "95hGGf6aJyE3",
        "colab": {
          "base_uri": "https://localhost:8080/"
        },
        "outputId": "a7c0dd2e-1bf8-4dcc-ec1e-c7d71f4379f1"
      },
      "execution_count": null,
      "outputs": [
        {
          "output_type": "stream",
          "name": "stdout",
          "text": [
            "Se encontraron 92 archivos .nii.gz en /content/drive/My Drive/TFM/MSLesSeg-Dataset/train\n"
          ]
        },
        {
          "output_type": "stream",
          "name": "stderr",
          "text": [
            "Procesando archivos: 100%|██████████| 92/92 [06:19<00:00,  4.12s/it]\n"
          ]
        }
      ]
    },
    {
      "cell_type": "code",
      "source": [
        "import os\n",
        "import cv2\n",
        "from pathlib import Path\n",
        "from tqdm import tqdm\n",
        "\n",
        "def combine_modalities(flair_dir, t1_dir, t2_dir, output_dir):\n",
        "    output_dir.mkdir(parents=True, exist_ok=True)\n",
        "\n",
        "    flair_slices = sorted(flair_dir.glob(\"*.png\"))\n",
        "    for flair_path in flair_slices:\n",
        "        fname = flair_path.name\n",
        "        t1_path = t1_dir / fname\n",
        "        t2_path = t2_dir / fname\n",
        "\n",
        "        if not (t1_path.exists() and t2_path.exists()):\n",
        "            print(f\"Slice {fname} faltante en alguna modalidad, se omite.\")\n",
        "            continue\n",
        "\n",
        "        flair = cv2.imread(str(flair_path), cv2.IMREAD_GRAYSCALE)\n",
        "        t1 = cv2.imread(str(t1_path), cv2.IMREAD_GRAYSCALE)\n",
        "        t2 = cv2.imread(str(t2_path), cv2.IMREAD_GRAYSCALE)\n",
        "\n",
        "        if flair is None or t1 is None or t2 is None:\n",
        "            print(f\"Error al cargar slice {fname}\")\n",
        "            continue\n",
        "\n",
        "        rgb = cv2.merge([flair, t1, t2])\n",
        "        cv2.imwrite(str(output_dir / fname), rgb)\n",
        "\n",
        "def process_dataset(root_input, root_output):\n",
        "    root_input = Path(root_input)\n",
        "    root_output = Path(root_output)\n",
        "\n",
        "    print(root_output)\n",
        "\n",
        "    patients = list(root_input.glob(\"P*\"))\n",
        "\n",
        "    print(patients)\n",
        "\n",
        "    for patient_path in tqdm(patients, desc=f\"Procesando {root_input.name}\"):\n",
        "        scans = list(patient_path.glob(\"P*_T*\"))  # T1, T2, T3...\n",
        "        print(scans)\n",
        "        for scan_path in scans:\n",
        "            scan_name = f\"{patient_path.name}_{scan_path.name}\"\n",
        "\n",
        "            flair_dir = scan_path / f\"{scan_name}_FLAIR.nii\"\n",
        "            t1_dir    = scan_path / f\"{scan_name}_T1.nii\"\n",
        "            t2_dir    = scan_path / f\"{scan_name}_T2.nii\"\n",
        "\n",
        "            if not (flair_dir.exists() and t1_dir.exists() and t2_dir.exists()):\n",
        "                print(f\"Faltan modalidades en {scan_path}\")\n",
        "                continue\n",
        "\n",
        "            output_dir = root_output / patient_path.name / scan_path.name\n",
        "            combine_modalities(flair_dir, t1_dir, t2_dir, output_dir)\n"
      ],
      "metadata": {
        "id": "KNSmyFXWCleZ"
      },
      "execution_count": null,
      "outputs": []
    },
    {
      "cell_type": "code",
      "source": [
        "input_base = Path(\"/content/drive/My Drive/TFM/MSLesSeg-Dataset\")\n",
        "output_base = input_base / \"combined_rgb\"\n",
        "\n",
        "#process_dataset(input_base / \"output_train\", output_base / \"train\")\n",
        "process_dataset(input_base / \"output_test\", output_base / \"test\")"
      ],
      "metadata": {
        "id": "LbxspHx7CoSH"
      },
      "execution_count": null,
      "outputs": []
    },
    {
      "cell_type": "code",
      "source": [
        "import cv2\n",
        "from pathlib import Path\n",
        "from tqdm import tqdm\n",
        "\n",
        "def combine_slices_png(flair_dir, t1_dir, t2_dir, output_dir):\n",
        "    output_dir.mkdir(parents=True, exist_ok=True)\n",
        "    flair_slices = sorted(flair_dir.glob(\"*.png\"))\n",
        "\n",
        "    for flair_path in flair_slices:\n",
        "        fname = flair_path.name\n",
        "        t1_path = t1_dir / fname\n",
        "        t2_path = t2_dir / fname\n",
        "\n",
        "        if not (t1_path.exists() and t2_path.exists()):\n",
        "            print(f\"Slice {fname} faltante en alguna modalidad\")\n",
        "            continue\n",
        "\n",
        "        flair = cv2.imread(str(flair_path), cv2.IMREAD_GRAYSCALE)\n",
        "        t1 = cv2.imread(str(t1_path), cv2.IMREAD_GRAYSCALE)\n",
        "        t2 = cv2.imread(str(t2_path), cv2.IMREAD_GRAYSCALE)\n",
        "\n",
        "        if flair is None or t1 is None or t2 is None:\n",
        "            print(f\"Error al leer {fname}\")\n",
        "            continue\n",
        "\n",
        "        rgb = cv2.merge([flair, t1, t2])\n",
        "        cv2.imwrite(str(output_dir / fname), rgb)\n",
        "\n",
        "def process_test_from_png(input_root, output_root):\n",
        "    input_root = Path(input_root)\n",
        "    output_root = Path(output_root)\n",
        "\n",
        "    for patient_dir in tqdm(sorted(input_root.glob(\"P*\")), desc=\"Procesando test set\"):\n",
        "        patient_id = patient_dir.name\n",
        "        flair_dir = patient_dir / f\"{patient_id}_FLAIR.nii\"\n",
        "        t1_dir = patient_dir / f\"{patient_id}_T1.nii\"\n",
        "        t2_dir = patient_dir / f\"{patient_id}_T2.nii\"\n",
        "\n",
        "        if not (flair_dir.exists() and t1_dir.exists() and t2_dir.exists()):\n",
        "            print(f\"Modalidades faltantes en {patient_id}\")\n",
        "            continue\n",
        "\n",
        "        out_dir = output_root / patient_id\n",
        "        combine_slices_png(flair_dir, t1_dir, t2_dir, out_dir)"
      ],
      "metadata": {
        "id": "JRU0LCHikLUO"
      },
      "execution_count": null,
      "outputs": []
    },
    {
      "cell_type": "code",
      "source": [
        "input_test_path = Path(\"/content/drive/My Drive/TFM/MSLesSeg-Dataset/output_test\")\n",
        "output_test_path = Path(\"/content/drive/My Drive/TFM/MSLesSeg-Dataset/combined_rgb/test\")\n",
        "\n",
        "process_test_from_png(input_test_path, output_test_path)"
      ],
      "metadata": {
        "colab": {
          "base_uri": "https://localhost:8080/"
        },
        "id": "zsUwiqB_kM5i",
        "outputId": "ce866e2b-31a4-41cd-c89b-06a29fd45a3b"
      },
      "execution_count": null,
      "outputs": [
        {
          "output_type": "stream",
          "name": "stderr",
          "text": [
            "Procesando test set: 100%|██████████| 22/22 [47:08<00:00, 128.57s/it]\n"
          ]
        }
      ]
    }
  ]
}